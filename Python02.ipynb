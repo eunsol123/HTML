{
  "nbformat": 4,
  "nbformat_minor": 0,
  "metadata": {
    "colab": {
      "name": "Python02.ipynb",
      "provenance": [],
      "authorship_tag": "ABX9TyONwgSl9Bib648gx6aNCBIv",
      "include_colab_link": true
    },
    "kernelspec": {
      "name": "python3",
      "display_name": "Python 3"
    },
    "language_info": {
      "name": "python"
    }
  },
  "cells": [
    {
      "cell_type": "markdown",
      "metadata": {
        "id": "view-in-github",
        "colab_type": "text"
      },
      "source": [
        "<a href=\"https://colab.research.google.com/github/eunsol123/HTML/blob/main/Python02.ipynb\" target=\"_parent\"><img src=\"https://colab.research.google.com/assets/colab-badge.svg\" alt=\"Open In Colab\"/></a>"
      ]
    },
    {
      "cell_type": "code",
      "execution_count": 1,
      "metadata": {
        "colab": {
          "base_uri": "https://localhost:8080/"
        },
        "id": "-3J0XX7DyG0z",
        "outputId": "d920542c-579e-445d-ed53-c4b5336c9dcd"
      },
      "outputs": [
        {
          "output_type": "stream",
          "name": "stdout",
          "text": [
            "(1, 2, 3)\n",
            "<class 'tuple'>\n",
            "(2, 3, 4)\n",
            "<class 'tuple'>\n",
            "(2, 3, 14, '문자')\n",
            "<class 'tuple'>\n"
          ]
        }
      ],
      "source": [
        "# 튜플 : 수정할 수 없는 리스트\n",
        "\n",
        "tu1 = (1,2,3)\n",
        "print(tu1)\n",
        "print(type(tu1))\n",
        "\n",
        "tu2 = 2,3,4\n",
        "print(tu2)\n",
        "print(type(tu2))\n",
        "\n",
        "tu3 = 2,3,14, '문자'\n",
        "print(tu3)\n",
        "print(type(tu3))"
      ]
    },
    {
      "cell_type": "code",
      "source": [
        "t = (1,2,3,4,5)\n",
        "t[0:3]"
      ],
      "metadata": {
        "colab": {
          "base_uri": "https://localhost:8080/"
        },
        "id": "fPBYLeW32Jxd",
        "outputId": "70219059-60a2-43bc-bf08-27468cb4c9d4"
      },
      "execution_count": 3,
      "outputs": [
        {
          "output_type": "execute_result",
          "data": {
            "text/plain": [
              "(1, 2, 3)"
            ]
          },
          "metadata": {},
          "execution_count": 3
        }
      ]
    },
    {
      "cell_type": "code",
      "source": [
        "set = {1,2,3}\n",
        "print(type(set))\n",
        "print(set)"
      ],
      "metadata": {
        "colab": {
          "base_uri": "https://localhost:8080/"
        },
        "id": "eY8n-avy5RgV",
        "outputId": "f3bb40b2-cf88-4371-ce33-6d86dc205b0e"
      },
      "execution_count": 4,
      "outputs": [
        {
          "output_type": "stream",
          "name": "stdout",
          "text": [
            "<class 'set'>\n",
            "{1, 2, 3}\n"
          ]
        }
      ]
    },
    {
      "cell_type": "code",
      "source": [
        "t[0]"
      ],
      "metadata": {
        "colab": {
          "base_uri": "https://localhost:8080/"
        },
        "id": "VmYQ6wpV5jnx",
        "outputId": "cd034054-9ac0-4723-d4fa-305b1040e1aa"
      },
      "execution_count": 5,
      "outputs": [
        {
          "output_type": "execute_result",
          "data": {
            "text/plain": [
              "1"
            ]
          },
          "metadata": {},
          "execution_count": 5
        }
      ]
    },
    {
      "cell_type": "code",
      "source": [
        "me = [1,2,3]  #리스트\n",
        "id(me)\n"
      ],
      "metadata": {
        "colab": {
          "base_uri": "https://localhost:8080/"
        },
        "id": "u1Mhwvbc7mdT",
        "outputId": "9c16057d-e912-4f9f-aa88-2ebca30ef4c1"
      },
      "execution_count": 8,
      "outputs": [
        {
          "output_type": "execute_result",
          "data": {
            "text/plain": [
              "140071811450912"
            ]
          },
          "metadata": {},
          "execution_count": 8
        }
      ]
    },
    {
      "cell_type": "code",
      "source": [
        "me.append(4)\n",
        "print(id(me))\n",
        "print(me)"
      ],
      "metadata": {
        "colab": {
          "base_uri": "https://localhost:8080/"
        },
        "id": "Fl1zrbuX83xK",
        "outputId": "861e0f66-21ba-45b6-8a0e-74ed31051f26"
      },
      "execution_count": 11,
      "outputs": [
        {
          "output_type": "stream",
          "name": "stdout",
          "text": [
            "140071811450912\n",
            "[1, 2, 3, 4, 4, 4]\n"
          ]
        }
      ]
    },
    {
      "cell_type": "code",
      "source": [
        "me.append(10) #정수\n",
        "print(id(me))"
      ],
      "metadata": {
        "colab": {
          "base_uri": "https://localhost:8080/"
        },
        "id": "_7V-M8AY9Xks",
        "outputId": "d723ebff-49f6-44c2-fb92-8e7514269a21"
      },
      "execution_count": 17,
      "outputs": [
        {
          "output_type": "stream",
          "name": "stdout",
          "text": [
            "140071811450912\n"
          ]
        }
      ]
    },
    {
      "cell_type": "code",
      "source": [
        "me = 10\n",
        "me += 1\n",
        "print(id(me))"
      ],
      "metadata": {
        "colab": {
          "base_uri": "https://localhost:8080/"
        },
        "id": "oqOadyup9efD",
        "outputId": "d8c411b6-eb0e-44fd-ae36-07e49a17bedf"
      },
      "execution_count": 22,
      "outputs": [
        {
          "output_type": "stream",
          "name": "stdout",
          "text": [
            "94883163085632\n"
          ]
        }
      ]
    },
    {
      "cell_type": "code",
      "source": [
        "me = [1,2,3]\n",
        "you = me\n",
        "print(id(me))\n",
        "print(id(you))"
      ],
      "metadata": {
        "colab": {
          "base_uri": "https://localhost:8080/"
        },
        "id": "h-rxpsFq90xv",
        "outputId": "d8233fc1-8fa6-44a2-bdc8-651a2b785d83"
      },
      "execution_count": 19,
      "outputs": [
        {
          "output_type": "stream",
          "name": "stdout",
          "text": [
            "140071810946304\n",
            "140071810946304\n"
          ]
        }
      ]
    },
    {
      "cell_type": "code",
      "source": [
        "you.append(4)\n",
        "print(id(me))\n",
        "print(id(you))\n",
        "\n",
        "print(me)\n",
        "print(you)"
      ],
      "metadata": {
        "colab": {
          "base_uri": "https://localhost:8080/"
        },
        "id": "yc24ovvm-HuB",
        "outputId": "9b553468-2c9f-483a-ac70-900a8581549a"
      },
      "execution_count": 21,
      "outputs": [
        {
          "output_type": "stream",
          "name": "stdout",
          "text": [
            "140071810946304\n",
            "140071810946304\n",
            "[1, 2, 3, 4, 4]\n",
            "[1, 2, 3, 4, 4]\n"
          ]
        }
      ]
    },
    {
      "cell_type": "code",
      "source": [
        ""
      ],
      "metadata": {
        "id": "hSoxrXiV-2_N"
      },
      "execution_count": null,
      "outputs": []
    },
    {
      "cell_type": "code",
      "source": [
        "car1 = '서울2가1234'\n",
        "car2 = '10가1234'\n",
        "car3 = '288가1234'\n",
        "\n",
        "print(car1,'의 차량번호 뒷자리는',car1[4:],'입니다.')\n",
        "print(car2,'의 차량번호 뒷자리는',car2[3:],'입니다.')\n",
        "print(car3,'의 차량번호 뒷자리는',car3[4:],'입니다.')"
      ],
      "metadata": {
        "colab": {
          "base_uri": "https://localhost:8080/"
        },
        "id": "Kk_TK2Gb_r2Y",
        "outputId": "f01eb333-3ca4-4044-cb8a-a11e0804cbfe"
      },
      "execution_count": 31,
      "outputs": [
        {
          "output_type": "stream",
          "name": "stdout",
          "text": [
            "서울2가1234 의 차량번호 뒷자리는 1234 입니다.\n",
            "10가1234 의 차량번호 뒷자리는 1234 입니다.\n",
            "288가1234 의 차량번호 뒷자리는 1234 입니다.\n"
          ]
        }
      ]
    },
    {
      "cell_type": "code",
      "source": [
        "s = 'maple'\n",
        "\n",
        "print(s,'의 가운데 글자는',s[2],'입니다.')"
      ],
      "metadata": {
        "colab": {
          "base_uri": "https://localhost:8080/"
        },
        "id": "rzQIn19aBM3q",
        "outputId": "7079f285-6093-4301-e7fd-3eade947d00a"
      },
      "execution_count": 33,
      "outputs": [
        {
          "output_type": "stream",
          "name": "stdout",
          "text": [
            "maple 의 가운데 글자는 p 입니다.\n"
          ]
        }
      ]
    },
    {
      "cell_type": "code",
      "source": [
        "lis = [10,20,30,40,50,60,70,80,90]\n",
        "\n",
        "print('3번째 요소부터 7번째 요소 = ',lis[2:7])\n",
        "print('3번째 요소부터 7번째 요소 중 2번째 = ',lis[2:7][1])"
      ],
      "metadata": {
        "colab": {
          "base_uri": "https://localhost:8080/"
        },
        "id": "AL8C9eHKBoqV",
        "outputId": "9e4894f1-76c6-4e78-81b3-31807c28e815"
      },
      "execution_count": 38,
      "outputs": [
        {
          "output_type": "stream",
          "name": "stdout",
          "text": [
            "3번째 요소부터 7번째 요소 =  [30, 40, 50, 60, 70]\n",
            "3번째 요소부터 7번째 요소 중 2번째 =  40\n"
          ]
        }
      ]
    },
    {
      "cell_type": "code",
      "source": [
        "dict = {'금요일':'탕수육','토요일':'유산슬','일요일':'팔보채'}\n",
        "\n",
        "print('금요일:',dict['금요일'])\n",
        "print('토요일:',dict['토요일'])\n",
        "print('일요일:',dict['일요일'])"
      ],
      "metadata": {
        "colab": {
          "base_uri": "https://localhost:8080/"
        },
        "id": "YRp4G-FACjoC",
        "outputId": "47a558a3-3491-4bb0-a57a-3fd4784202be"
      },
      "execution_count": 41,
      "outputs": [
        {
          "output_type": "stream",
          "name": "stdout",
          "text": [
            "금요일: 탕수육\n",
            "토요일: 유산슬\n",
            "일요일: 팔보채\n"
          ]
        }
      ]
    },
    {
      "cell_type": "code",
      "source": [
        "print('Hello\\'world\\'')\n",
        "print(\"Hello\\\"world\\\"\")\n",
        "print('*\\n**\\n***')\n",
        "print('이름\\t연락처')\n",
        "print('제시카\\t02-123-4567')\n",
        "print('마틴\\t010-8765-1234')"
      ],
      "metadata": {
        "colab": {
          "base_uri": "https://localhost:8080/"
        },
        "id": "c6f2P3ArGW_h",
        "outputId": "c2b4f499-6c91-4d5b-861a-d93659c066e6"
      },
      "execution_count": 43,
      "outputs": [
        {
          "output_type": "stream",
          "name": "stdout",
          "text": [
            "Hello'world'\n",
            "Hello\"world\"\n",
            "*\n",
            "**\n",
            "***\n",
            "이름\t연락처\n",
            "제시카\t02-123-4567\n",
            "마틴\t010-8765-1234\n"
          ]
        }
      ]
    },
    {
      "cell_type": "code",
      "source": [
        "print('재미있는','파이썬')\n",
        "print('python','java','C',sep=',')\n",
        "\n",
        "print()\n",
        "\n",
        "print('영화 타이타닉')\n",
        "print('평점',end=' ')\n",
        "print('5점')\n",
        "\n",
        "# fos = open('sample.py',mode='wt')\n",
        "# print('print(\"Hello World\")',file=fos)\n",
        "# fos.close()"
      ],
      "metadata": {
        "colab": {
          "base_uri": "https://localhost:8080/"
        },
        "id": "sJD2CZRSITJP",
        "outputId": "c0c2e924-4566-4891-bd2a-72d72cdbf346"
      },
      "execution_count": 51,
      "outputs": [
        {
          "output_type": "stream",
          "name": "stdout",
          "text": [
            "재미있는 파이썬\n",
            "python,java,C\n",
            "\n",
            "영화 타이타닉\n",
            "평점 5점\n"
          ]
        }
      ]
    },
    {
      "cell_type": "code",
      "source": [
        "# 인쇄 4가지 방법\n",
        "# 1. 기본출력\n",
        "# 2.%연산자 출력\n",
        "# 3.format() 매서드\n",
        "# 4.f-string(***)\n",
        "\n",
        "# %연산자 출력\n",
        "print('%d' %10)\n",
        "print('%d 원 입니다.'%100)\n",
        "print('%s 원 입니다.'%100)\n",
        "\n",
        "print('원주율은 %f 입니다.'%3.14)\n",
        "print('원주율은 %s 입니다.'%3.14)"
      ],
      "metadata": {
        "colab": {
          "base_uri": "https://localhost:8080/"
        },
        "id": "QUncsQ4BJ7D9",
        "outputId": "e3687935-01ac-4cb3-f180-b593cf32d9ea"
      },
      "execution_count": 57,
      "outputs": [
        {
          "output_type": "stream",
          "name": "stdout",
          "text": [
            "10\n",
            "100 원 입니다.\n",
            "100 원 입니다.\n",
            "원주율은 3.140000 입니다.\n",
            "원주율은 3.14 입니다.\n"
          ]
        }
      ]
    },
    {
      "cell_type": "code",
      "source": [
        "print('%5d' %1)\n",
        "print('%5d' %12)\n",
        "print('%-5d' %1)\n",
        "print('%-5d' %12)"
      ],
      "metadata": {
        "colab": {
          "base_uri": "https://localhost:8080/"
        },
        "id": "BLygrJCQMP5A",
        "outputId": "f06051fb-fc2c-49dd-c78b-f4012cb7a582"
      },
      "execution_count": 60,
      "outputs": [
        {
          "output_type": "stream",
          "name": "stdout",
          "text": [
            "    1\n",
            "   12\n",
            "1    \n",
            "12   \n"
          ]
        }
      ]
    },
    {
      "cell_type": "code",
      "source": [
        "#format() 매서드\n",
        "\n",
        "name = 'eun'\n",
        "age = '21'\n",
        "\n",
        "print('My name is {}'.format('choeunsol'))\n",
        "print('My name is {} i\\'m {} years old'.format('cho',22))\n",
        "print('My name is' ,name,'i\\'m',age,'years old')\n",
        "print('My name is %s,i\\'m %s years old'%('sol',20))"
      ],
      "metadata": {
        "colab": {
          "base_uri": "https://localhost:8080/"
        },
        "id": "xNmxKyiwM0An",
        "outputId": "fbf259e4-23db-4b82-af9b-6620e86c6279"
      },
      "execution_count": 73,
      "outputs": [
        {
          "output_type": "stream",
          "name": "stdout",
          "text": [
            "My name is choeunsol\n",
            "My name is cho i'm 22 years old\n",
            "My name is eun i'm 21 years old\n",
            "My name is sol,i'm 20 years old\n"
          ]
        }
      ]
    },
    {
      "cell_type": "code",
      "source": [
        "# f-string\n",
        "\n",
        "name = 'choeunsol'\n",
        "age = 22\n",
        "\n",
        "print(f'My name is {name} i\\'m {age} years old')\n",
        "print(f'내년엔 {age+1} 살이 됩니다.')"
      ],
      "metadata": {
        "colab": {
          "base_uri": "https://localhost:8080/"
        },
        "id": "OpsywJPFNNqy",
        "outputId": "bde57077-105b-4e20-cb2f-5dbd1ddabcba"
      },
      "execution_count": 82,
      "outputs": [
        {
          "output_type": "stream",
          "name": "stdout",
          "text": [
            "My name is choeunsol i'm 22 years old\n",
            "내년엔 23 살이 됩니다.\n"
          ]
        }
      ]
    }
  ]
}